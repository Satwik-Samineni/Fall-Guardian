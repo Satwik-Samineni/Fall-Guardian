{
  "nbformat": 4,
  "nbformat_minor": 0,
  "metadata": {
    "colab": {
      "provenance": []
    },
    "kernelspec": {
      "name": "python3",
      "display_name": "Python 3"
    },
    "language_info": {
      "name": "python"
    }
  },
  "cells": [
    {
      "cell_type": "markdown",
      "source": [],
      "metadata": {
        "id": "kcM5efc2flYh"
      }
    },
    {
      "cell_type": "markdown",
      "source": [],
      "metadata": {
        "id": "WwpmHJVYEPfQ"
      }
    },
    {
      "cell_type": "code",
      "execution_count": 1,
      "metadata": {
        "id": "6kazGyfNzeQB"
      },
      "outputs": [],
      "source": [
        "import numpy as np\n",
        "from keras.models import Sequential\n",
        "from keras.layers import *\n",
        "import pandas as pd\n",
        "import glob"
      ]
    },
    {
      "cell_type": "code",
      "source": [
        "data = pd.read_csv(\"/content/falldetectiondata.csv\")"
      ],
      "metadata": {
        "id": "DDwUQblj9moA"
      },
      "execution_count": 3,
      "outputs": []
    },
    {
      "cell_type": "code",
      "source": [
        "data.head(100)"
      ],
      "metadata": {
        "colab": {
          "base_uri": "https://localhost:8080/",
          "height": 423
        },
        "id": "vzySkxV19xIC",
        "outputId": "29aec75a-e72d-434a-ea3b-ad2e90bb4d52"
      },
      "execution_count": 4,
      "outputs": [
        {
          "output_type": "execute_result",
          "data": {
            "text/plain": [
              "    sl.no  rotationRate.x  rotationRate.y  rotationRate.z  userAcceleration.x  \\\n",
              "0       1       -2.191344        1.836105       -0.723019           -0.232847   \n",
              "1       2       -2.363008        1.904480       -1.155867           -0.057052   \n",
              "2       3       -2.559274        1.177604       -1.169257            0.086240   \n",
              "3       4       -2.081134       -1.058971       -0.112989            0.024963   \n",
              "4       5       -2.415788       -2.580961        0.902503            0.011223   \n",
              "..    ...             ...             ...             ...                 ...   \n",
              "95     96       -0.586537       -1.241410       -0.013780           -0.144614   \n",
              "96     97       -0.614669       -0.940555       -0.100888           -0.189570   \n",
              "97     98       -0.551498        0.184606       -0.212984           -0.236039   \n",
              "98     99       -0.603691        0.839174       -0.290031           -0.055239   \n",
              "99    100       -0.584593        0.790207       -0.315472           -0.002883   \n",
              "\n",
              "    userAcceleration.y  userAcceleration.z  class  \n",
              "0            -0.688916            0.381181      0  \n",
              "1            -0.607515            0.339946      0  \n",
              "2             0.302249           -0.259253      0  \n",
              "3             0.770023           -0.537816      0  \n",
              "4             0.471664           -0.478298      0  \n",
              "..                 ...                 ...    ...  \n",
              "95           -0.071649            0.003194      0  \n",
              "96           -0.165756            0.090802      0  \n",
              "97           -0.342253            0.049127      0  \n",
              "98           -0.411247           -0.145724      0  \n",
              "99           -0.479905           -0.163581      0  \n",
              "\n",
              "[100 rows x 8 columns]"
            ],
            "text/html": [
              "\n",
              "  <div id=\"df-11e998f6-f4ce-42e8-8ca9-b81c8b1e0c94\" class=\"colab-df-container\">\n",
              "    <div>\n",
              "<style scoped>\n",
              "    .dataframe tbody tr th:only-of-type {\n",
              "        vertical-align: middle;\n",
              "    }\n",
              "\n",
              "    .dataframe tbody tr th {\n",
              "        vertical-align: top;\n",
              "    }\n",
              "\n",
              "    .dataframe thead th {\n",
              "        text-align: right;\n",
              "    }\n",
              "</style>\n",
              "<table border=\"1\" class=\"dataframe\">\n",
              "  <thead>\n",
              "    <tr style=\"text-align: right;\">\n",
              "      <th></th>\n",
              "      <th>sl.no</th>\n",
              "      <th>rotationRate.x</th>\n",
              "      <th>rotationRate.y</th>\n",
              "      <th>rotationRate.z</th>\n",
              "      <th>userAcceleration.x</th>\n",
              "      <th>userAcceleration.y</th>\n",
              "      <th>userAcceleration.z</th>\n",
              "      <th>class</th>\n",
              "    </tr>\n",
              "  </thead>\n",
              "  <tbody>\n",
              "    <tr>\n",
              "      <th>0</th>\n",
              "      <td>1</td>\n",
              "      <td>-2.191344</td>\n",
              "      <td>1.836105</td>\n",
              "      <td>-0.723019</td>\n",
              "      <td>-0.232847</td>\n",
              "      <td>-0.688916</td>\n",
              "      <td>0.381181</td>\n",
              "      <td>0</td>\n",
              "    </tr>\n",
              "    <tr>\n",
              "      <th>1</th>\n",
              "      <td>2</td>\n",
              "      <td>-2.363008</td>\n",
              "      <td>1.904480</td>\n",
              "      <td>-1.155867</td>\n",
              "      <td>-0.057052</td>\n",
              "      <td>-0.607515</td>\n",
              "      <td>0.339946</td>\n",
              "      <td>0</td>\n",
              "    </tr>\n",
              "    <tr>\n",
              "      <th>2</th>\n",
              "      <td>3</td>\n",
              "      <td>-2.559274</td>\n",
              "      <td>1.177604</td>\n",
              "      <td>-1.169257</td>\n",
              "      <td>0.086240</td>\n",
              "      <td>0.302249</td>\n",
              "      <td>-0.259253</td>\n",
              "      <td>0</td>\n",
              "    </tr>\n",
              "    <tr>\n",
              "      <th>3</th>\n",
              "      <td>4</td>\n",
              "      <td>-2.081134</td>\n",
              "      <td>-1.058971</td>\n",
              "      <td>-0.112989</td>\n",
              "      <td>0.024963</td>\n",
              "      <td>0.770023</td>\n",
              "      <td>-0.537816</td>\n",
              "      <td>0</td>\n",
              "    </tr>\n",
              "    <tr>\n",
              "      <th>4</th>\n",
              "      <td>5</td>\n",
              "      <td>-2.415788</td>\n",
              "      <td>-2.580961</td>\n",
              "      <td>0.902503</td>\n",
              "      <td>0.011223</td>\n",
              "      <td>0.471664</td>\n",
              "      <td>-0.478298</td>\n",
              "      <td>0</td>\n",
              "    </tr>\n",
              "    <tr>\n",
              "      <th>...</th>\n",
              "      <td>...</td>\n",
              "      <td>...</td>\n",
              "      <td>...</td>\n",
              "      <td>...</td>\n",
              "      <td>...</td>\n",
              "      <td>...</td>\n",
              "      <td>...</td>\n",
              "      <td>...</td>\n",
              "    </tr>\n",
              "    <tr>\n",
              "      <th>95</th>\n",
              "      <td>96</td>\n",
              "      <td>-0.586537</td>\n",
              "      <td>-1.241410</td>\n",
              "      <td>-0.013780</td>\n",
              "      <td>-0.144614</td>\n",
              "      <td>-0.071649</td>\n",
              "      <td>0.003194</td>\n",
              "      <td>0</td>\n",
              "    </tr>\n",
              "    <tr>\n",
              "      <th>96</th>\n",
              "      <td>97</td>\n",
              "      <td>-0.614669</td>\n",
              "      <td>-0.940555</td>\n",
              "      <td>-0.100888</td>\n",
              "      <td>-0.189570</td>\n",
              "      <td>-0.165756</td>\n",
              "      <td>0.090802</td>\n",
              "      <td>0</td>\n",
              "    </tr>\n",
              "    <tr>\n",
              "      <th>97</th>\n",
              "      <td>98</td>\n",
              "      <td>-0.551498</td>\n",
              "      <td>0.184606</td>\n",
              "      <td>-0.212984</td>\n",
              "      <td>-0.236039</td>\n",
              "      <td>-0.342253</td>\n",
              "      <td>0.049127</td>\n",
              "      <td>0</td>\n",
              "    </tr>\n",
              "    <tr>\n",
              "      <th>98</th>\n",
              "      <td>99</td>\n",
              "      <td>-0.603691</td>\n",
              "      <td>0.839174</td>\n",
              "      <td>-0.290031</td>\n",
              "      <td>-0.055239</td>\n",
              "      <td>-0.411247</td>\n",
              "      <td>-0.145724</td>\n",
              "      <td>0</td>\n",
              "    </tr>\n",
              "    <tr>\n",
              "      <th>99</th>\n",
              "      <td>100</td>\n",
              "      <td>-0.584593</td>\n",
              "      <td>0.790207</td>\n",
              "      <td>-0.315472</td>\n",
              "      <td>-0.002883</td>\n",
              "      <td>-0.479905</td>\n",
              "      <td>-0.163581</td>\n",
              "      <td>0</td>\n",
              "    </tr>\n",
              "  </tbody>\n",
              "</table>\n",
              "<p>100 rows × 8 columns</p>\n",
              "</div>\n",
              "    <div class=\"colab-df-buttons\">\n",
              "\n",
              "  <div class=\"colab-df-container\">\n",
              "    <button class=\"colab-df-convert\" onclick=\"convertToInteractive('df-11e998f6-f4ce-42e8-8ca9-b81c8b1e0c94')\"\n",
              "            title=\"Convert this dataframe to an interactive table.\"\n",
              "            style=\"display:none;\">\n",
              "\n",
              "  <svg xmlns=\"http://www.w3.org/2000/svg\" height=\"24px\" viewBox=\"0 -960 960 960\">\n",
              "    <path d=\"M120-120v-720h720v720H120Zm60-500h600v-160H180v160Zm220 220h160v-160H400v160Zm0 220h160v-160H400v160ZM180-400h160v-160H180v160Zm440 0h160v-160H620v160ZM180-180h160v-160H180v160Zm440 0h160v-160H620v160Z\"/>\n",
              "  </svg>\n",
              "    </button>\n",
              "\n",
              "  <style>\n",
              "    .colab-df-container {\n",
              "      display:flex;\n",
              "      gap: 12px;\n",
              "    }\n",
              "\n",
              "    .colab-df-convert {\n",
              "      background-color: #E8F0FE;\n",
              "      border: none;\n",
              "      border-radius: 50%;\n",
              "      cursor: pointer;\n",
              "      display: none;\n",
              "      fill: #1967D2;\n",
              "      height: 32px;\n",
              "      padding: 0 0 0 0;\n",
              "      width: 32px;\n",
              "    }\n",
              "\n",
              "    .colab-df-convert:hover {\n",
              "      background-color: #E2EBFA;\n",
              "      box-shadow: 0px 1px 2px rgba(60, 64, 67, 0.3), 0px 1px 3px 1px rgba(60, 64, 67, 0.15);\n",
              "      fill: #174EA6;\n",
              "    }\n",
              "\n",
              "    .colab-df-buttons div {\n",
              "      margin-bottom: 4px;\n",
              "    }\n",
              "\n",
              "    [theme=dark] .colab-df-convert {\n",
              "      background-color: #3B4455;\n",
              "      fill: #D2E3FC;\n",
              "    }\n",
              "\n",
              "    [theme=dark] .colab-df-convert:hover {\n",
              "      background-color: #434B5C;\n",
              "      box-shadow: 0px 1px 3px 1px rgba(0, 0, 0, 0.15);\n",
              "      filter: drop-shadow(0px 1px 2px rgba(0, 0, 0, 0.3));\n",
              "      fill: #FFFFFF;\n",
              "    }\n",
              "  </style>\n",
              "\n",
              "    <script>\n",
              "      const buttonEl =\n",
              "        document.querySelector('#df-11e998f6-f4ce-42e8-8ca9-b81c8b1e0c94 button.colab-df-convert');\n",
              "      buttonEl.style.display =\n",
              "        google.colab.kernel.accessAllowed ? 'block' : 'none';\n",
              "\n",
              "      async function convertToInteractive(key) {\n",
              "        const element = document.querySelector('#df-11e998f6-f4ce-42e8-8ca9-b81c8b1e0c94');\n",
              "        const dataTable =\n",
              "          await google.colab.kernel.invokeFunction('convertToInteractive',\n",
              "                                                    [key], {});\n",
              "        if (!dataTable) return;\n",
              "\n",
              "        const docLinkHtml = 'Like what you see? Visit the ' +\n",
              "          '<a target=\"_blank\" href=https://colab.research.google.com/notebooks/data_table.ipynb>data table notebook</a>'\n",
              "          + ' to learn more about interactive tables.';\n",
              "        element.innerHTML = '';\n",
              "        dataTable['output_type'] = 'display_data';\n",
              "        await google.colab.output.renderOutput(dataTable, element);\n",
              "        const docLink = document.createElement('div');\n",
              "        docLink.innerHTML = docLinkHtml;\n",
              "        element.appendChild(docLink);\n",
              "      }\n",
              "    </script>\n",
              "  </div>\n",
              "\n",
              "\n",
              "<div id=\"df-3014be3c-62d7-4378-aba3-14a1aa4486c6\">\n",
              "  <button class=\"colab-df-quickchart\" onclick=\"quickchart('df-3014be3c-62d7-4378-aba3-14a1aa4486c6')\"\n",
              "            title=\"Suggest charts\"\n",
              "            style=\"display:none;\">\n",
              "\n",
              "<svg xmlns=\"http://www.w3.org/2000/svg\" height=\"24px\"viewBox=\"0 0 24 24\"\n",
              "     width=\"24px\">\n",
              "    <g>\n",
              "        <path d=\"M19 3H5c-1.1 0-2 .9-2 2v14c0 1.1.9 2 2 2h14c1.1 0 2-.9 2-2V5c0-1.1-.9-2-2-2zM9 17H7v-7h2v7zm4 0h-2V7h2v10zm4 0h-2v-4h2v4z\"/>\n",
              "    </g>\n",
              "</svg>\n",
              "  </button>\n",
              "\n",
              "<style>\n",
              "  .colab-df-quickchart {\n",
              "      --bg-color: #E8F0FE;\n",
              "      --fill-color: #1967D2;\n",
              "      --hover-bg-color: #E2EBFA;\n",
              "      --hover-fill-color: #174EA6;\n",
              "      --disabled-fill-color: #AAA;\n",
              "      --disabled-bg-color: #DDD;\n",
              "  }\n",
              "\n",
              "  [theme=dark] .colab-df-quickchart {\n",
              "      --bg-color: #3B4455;\n",
              "      --fill-color: #D2E3FC;\n",
              "      --hover-bg-color: #434B5C;\n",
              "      --hover-fill-color: #FFFFFF;\n",
              "      --disabled-bg-color: #3B4455;\n",
              "      --disabled-fill-color: #666;\n",
              "  }\n",
              "\n",
              "  .colab-df-quickchart {\n",
              "    background-color: var(--bg-color);\n",
              "    border: none;\n",
              "    border-radius: 50%;\n",
              "    cursor: pointer;\n",
              "    display: none;\n",
              "    fill: var(--fill-color);\n",
              "    height: 32px;\n",
              "    padding: 0;\n",
              "    width: 32px;\n",
              "  }\n",
              "\n",
              "  .colab-df-quickchart:hover {\n",
              "    background-color: var(--hover-bg-color);\n",
              "    box-shadow: 0 1px 2px rgba(60, 64, 67, 0.3), 0 1px 3px 1px rgba(60, 64, 67, 0.15);\n",
              "    fill: var(--button-hover-fill-color);\n",
              "  }\n",
              "\n",
              "  .colab-df-quickchart-complete:disabled,\n",
              "  .colab-df-quickchart-complete:disabled:hover {\n",
              "    background-color: var(--disabled-bg-color);\n",
              "    fill: var(--disabled-fill-color);\n",
              "    box-shadow: none;\n",
              "  }\n",
              "\n",
              "  .colab-df-spinner {\n",
              "    border: 2px solid var(--fill-color);\n",
              "    border-color: transparent;\n",
              "    border-bottom-color: var(--fill-color);\n",
              "    animation:\n",
              "      spin 1s steps(1) infinite;\n",
              "  }\n",
              "\n",
              "  @keyframes spin {\n",
              "    0% {\n",
              "      border-color: transparent;\n",
              "      border-bottom-color: var(--fill-color);\n",
              "      border-left-color: var(--fill-color);\n",
              "    }\n",
              "    20% {\n",
              "      border-color: transparent;\n",
              "      border-left-color: var(--fill-color);\n",
              "      border-top-color: var(--fill-color);\n",
              "    }\n",
              "    30% {\n",
              "      border-color: transparent;\n",
              "      border-left-color: var(--fill-color);\n",
              "      border-top-color: var(--fill-color);\n",
              "      border-right-color: var(--fill-color);\n",
              "    }\n",
              "    40% {\n",
              "      border-color: transparent;\n",
              "      border-right-color: var(--fill-color);\n",
              "      border-top-color: var(--fill-color);\n",
              "    }\n",
              "    60% {\n",
              "      border-color: transparent;\n",
              "      border-right-color: var(--fill-color);\n",
              "    }\n",
              "    80% {\n",
              "      border-color: transparent;\n",
              "      border-right-color: var(--fill-color);\n",
              "      border-bottom-color: var(--fill-color);\n",
              "    }\n",
              "    90% {\n",
              "      border-color: transparent;\n",
              "      border-bottom-color: var(--fill-color);\n",
              "    }\n",
              "  }\n",
              "</style>\n",
              "\n",
              "  <script>\n",
              "    async function quickchart(key) {\n",
              "      const quickchartButtonEl =\n",
              "        document.querySelector('#' + key + ' button');\n",
              "      quickchartButtonEl.disabled = true;  // To prevent multiple clicks.\n",
              "      quickchartButtonEl.classList.add('colab-df-spinner');\n",
              "      try {\n",
              "        const charts = await google.colab.kernel.invokeFunction(\n",
              "            'suggestCharts', [key], {});\n",
              "      } catch (error) {\n",
              "        console.error('Error during call to suggestCharts:', error);\n",
              "      }\n",
              "      quickchartButtonEl.classList.remove('colab-df-spinner');\n",
              "      quickchartButtonEl.classList.add('colab-df-quickchart-complete');\n",
              "    }\n",
              "    (() => {\n",
              "      let quickchartButtonEl =\n",
              "        document.querySelector('#df-3014be3c-62d7-4378-aba3-14a1aa4486c6 button');\n",
              "      quickchartButtonEl.style.display =\n",
              "        google.colab.kernel.accessAllowed ? 'block' : 'none';\n",
              "    })();\n",
              "  </script>\n",
              "</div>\n",
              "    </div>\n",
              "  </div>\n"
            ],
            "application/vnd.google.colaboratory.intrinsic+json": {
              "type": "dataframe",
              "variable_name": "data",
              "summary": "{\n  \"name\": \"data\",\n  \"rows\": 7997,\n  \"fields\": [\n    {\n      \"column\": \"sl.no\",\n      \"properties\": {\n        \"dtype\": \"number\",\n        \"std\": 2308,\n        \"min\": 1,\n        \"max\": 7997,\n        \"num_unique_values\": 7997,\n        \"samples\": [\n          5489,\n          2578,\n          3693\n        ],\n        \"semantic_type\": \"\",\n        \"description\": \"\"\n      }\n    },\n    {\n      \"column\": \"rotationRate.x\",\n      \"properties\": {\n        \"dtype\": \"number\",\n        \"std\": 1.3297020566342206,\n        \"min\": -6.249267,\n        \"max\": 3.818628,\n        \"num_unique_values\": 7950,\n        \"samples\": [\n          1.009871,\n          0.000389,\n          -0.009485\n        ],\n        \"semantic_type\": \"\",\n        \"description\": \"\"\n      }\n    },\n    {\n      \"column\": \"rotationRate.y\",\n      \"properties\": {\n        \"dtype\": \"number\",\n        \"std\": 1.2620356450553367,\n        \"min\": -5.509174,\n        \"max\": 5.956423,\n        \"num_unique_values\": 7946,\n        \"samples\": [\n          1.052729,\n          -0.051171,\n          0.789464\n        ],\n        \"semantic_type\": \"\",\n        \"description\": \"\"\n      }\n    },\n    {\n      \"column\": \"rotationRate.z\",\n      \"properties\": {\n        \"dtype\": \"number\",\n        \"std\": 0.7278510964312764,\n        \"min\": -3.351712,\n        \"max\": 2.734175,\n        \"num_unique_values\": 7935,\n        \"samples\": [\n          0.484427,\n          -0.119726,\n          -0.816623\n        ],\n        \"semantic_type\": \"\",\n        \"description\": \"\"\n      }\n    },\n    {\n      \"column\": \"userAcceleration.x\",\n      \"properties\": {\n        \"dtype\": \"number\",\n        \"std\": 0.2977870964780522,\n        \"min\": -2.413408,\n        \"max\": 1.252113,\n        \"num_unique_values\": 7897,\n        \"samples\": [\n          0.872599,\n          0.006198,\n          0.004313\n        ],\n        \"semantic_type\": \"\",\n        \"description\": \"\"\n      }\n    },\n    {\n      \"column\": \"userAcceleration.y\",\n      \"properties\": {\n        \"dtype\": \"number\",\n        \"std\": 0.41213460219288833,\n        \"min\": -1.35671,\n        \"max\": 2.33558,\n        \"num_unique_values\": 7899,\n        \"samples\": [\n          0.867221,\n          -0.130026,\n          -0.001383\n        ],\n        \"semantic_type\": \"\",\n        \"description\": \"\"\n      }\n    },\n    {\n      \"column\": \"userAcceleration.z\",\n      \"properties\": {\n        \"dtype\": \"number\",\n        \"std\": 0.31988733734637126,\n        \"min\": -2.978514,\n        \"max\": 1.395295,\n        \"num_unique_values\": 7874,\n        \"samples\": [\n          0.094355,\n          0.149548,\n          -0.23309\n        ],\n        \"semantic_type\": \"\",\n        \"description\": \"\"\n      }\n    },\n    {\n      \"column\": \"class\",\n      \"properties\": {\n        \"dtype\": \"number\",\n        \"std\": 0,\n        \"min\": 0,\n        \"max\": 1,\n        \"num_unique_values\": 2,\n        \"samples\": [\n          1,\n          0\n        ],\n        \"semantic_type\": \"\",\n        \"description\": \"\"\n      }\n    }\n  ]\n}"
            }
          },
          "metadata": {},
          "execution_count": 4
        }
      ]
    },
    {
      "cell_type": "code",
      "source": [
        "np.unique(data[\"class\"])"
      ],
      "metadata": {
        "colab": {
          "base_uri": "https://localhost:8080/"
        },
        "id": "zaKtG61e3fPl",
        "outputId": "0a8a359b-8f46-4583-c61f-a2064f73d2e5"
      },
      "execution_count": 5,
      "outputs": [
        {
          "output_type": "execute_result",
          "data": {
            "text/plain": [
              "array([0, 1])"
            ]
          },
          "metadata": {},
          "execution_count": 5
        }
      ]
    },
    {
      "cell_type": "code",
      "source": [
        "import numpy as np\n",
        "from sklearn.model_selection import train_test_split\n",
        "from sklearn.preprocessing import StandardScaler\n",
        "from sklearn.preprocessing import LabelEncoder\n",
        "from keras.models import Sequential\n",
        "from keras.layers import Dense, Flatten, Reshape, Conv1D, MaxPooling1D\n",
        "from keras.utils import to_categorical"
      ],
      "metadata": {
        "id": "T24PWuFZ_neI"
      },
      "execution_count": 6,
      "outputs": []
    },
    {
      "cell_type": "code",
      "source": [
        "# Extract features (X) and labels (y)\n",
        "X = data.iloc[:, 1:-1].values  # Assuming the features are in the first 23 columns\n",
        "y = data.iloc[:, -1].values   # Assuming the labels are in the last column\n",
        "print(y.shape,X.shape)"
      ],
      "metadata": {
        "colab": {
          "base_uri": "https://localhost:8080/"
        },
        "id": "BHpJeymO_sHT",
        "outputId": "eee8cdf6-5b22-4c5d-81b3-b9129eb7637b"
      },
      "execution_count": 7,
      "outputs": [
        {
          "output_type": "stream",
          "name": "stdout",
          "text": [
            "(7997,) (7997, 6)\n"
          ]
        }
      ]
    },
    {
      "cell_type": "code",
      "source": [
        "# Standardize features\n",
        "\n",
        "# Convert labels to one-hot encoding\n",
        "y.shape"
      ],
      "metadata": {
        "id": "5-JISzNW9Ha6",
        "colab": {
          "base_uri": "https://localhost:8080/"
        },
        "outputId": "fddc3d14-603a-4680-8e70-5a1cada55d37"
      },
      "execution_count": 8,
      "outputs": [
        {
          "output_type": "execute_result",
          "data": {
            "text/plain": [
              "(7997,)"
            ]
          },
          "metadata": {},
          "execution_count": 8
        }
      ]
    },
    {
      "cell_type": "code",
      "source": [
        "def create_baseline():\n",
        "    model = Sequential()\n",
        "\n",
        "    model.add(Conv1D(filters=64, kernel_size=3, padding='same', activation='relu', input_shape=(6, 1)))\n",
        "    model.add(Conv1D(filters=32, kernel_size=3, padding='same', activation='relu'))\n",
        "    model.add(Flatten())\n",
        "    model.add(Dense(1, activation='sigmoid', kernel_regularizer='l2'))\n",
        "\n",
        "    model.compile(loss='binary_crossentropy', optimizer='adam', metrics=['accuracy'])\n",
        "    return model\n",
        "# Train the model\n",
        "\n",
        "model = create_baseline()\n",
        "\n",
        "hist = model.fit(X,y,epochs=10,validation_data=(X,y))"
      ],
      "metadata": {
        "colab": {
          "base_uri": "https://localhost:8080/"
        },
        "id": "mvnrNAZD_z27",
        "outputId": "fcf8107e-46fb-433e-8f4b-67529b2d34f1"
      },
      "execution_count": 9,
      "outputs": [
        {
          "output_type": "stream",
          "name": "stdout",
          "text": [
            "Epoch 1/10\n",
            "250/250 [==============================] - 2s 5ms/step - loss: 0.2270 - accuracy: 0.9115 - val_loss: 0.0899 - val_accuracy: 0.9901\n",
            "Epoch 2/10\n",
            "250/250 [==============================] - 1s 4ms/step - loss: 0.0587 - accuracy: 0.9919 - val_loss: 0.0457 - val_accuracy: 0.9919\n",
            "Epoch 3/10\n",
            "250/250 [==============================] - 1s 5ms/step - loss: 0.0402 - accuracy: 0.9932 - val_loss: 0.0356 - val_accuracy: 0.9947\n",
            "Epoch 4/10\n",
            "250/250 [==============================] - 1s 5ms/step - loss: 0.0326 - accuracy: 0.9952 - val_loss: 0.0292 - val_accuracy: 0.9954\n",
            "Epoch 5/10\n",
            "250/250 [==============================] - 1s 5ms/step - loss: 0.0280 - accuracy: 0.9952 - val_loss: 0.0250 - val_accuracy: 0.9961\n",
            "Epoch 6/10\n",
            "250/250 [==============================] - 1s 4ms/step - loss: 0.0242 - accuracy: 0.9952 - val_loss: 0.0225 - val_accuracy: 0.9960\n",
            "Epoch 7/10\n",
            "250/250 [==============================] - 1s 5ms/step - loss: 0.0213 - accuracy: 0.9964 - val_loss: 0.0197 - val_accuracy: 0.9964\n",
            "Epoch 8/10\n",
            "250/250 [==============================] - 1s 5ms/step - loss: 0.0191 - accuracy: 0.9967 - val_loss: 0.0178 - val_accuracy: 0.9966\n",
            "Epoch 9/10\n",
            "250/250 [==============================] - 2s 6ms/step - loss: 0.0180 - accuracy: 0.9960 - val_loss: 0.0164 - val_accuracy: 0.9971\n",
            "Epoch 10/10\n",
            "250/250 [==============================] - 1s 5ms/step - loss: 0.0167 - accuracy: 0.9966 - val_loss: 0.0148 - val_accuracy: 0.9974\n"
          ]
        }
      ]
    },
    {
      "cell_type": "code",
      "source": [
        "import matplotlib.pyplot as plt\n",
        "from sklearn.metrics import confusion_matrix, accuracy_score, classification_report\n",
        "import seaborn as sns\n",
        "\n",
        "y_pred = model.evaluate(X,y)"
      ],
      "metadata": {
        "id": "zPKXV7PY_YIl",
        "colab": {
          "base_uri": "https://localhost:8080/"
        },
        "outputId": "9bdb17e8-00e2-4dd0-d123-2de8e2db12c0"
      },
      "execution_count": 10,
      "outputs": [
        {
          "output_type": "stream",
          "name": "stdout",
          "text": [
            "250/250 [==============================] - 0s 2ms/step - loss: 0.0148 - accuracy: 0.9974\n"
          ]
        }
      ]
    },
    {
      "cell_type": "code",
      "source": [
        "y_pred"
      ],
      "metadata": {
        "colab": {
          "base_uri": "https://localhost:8080/"
        },
        "id": "C3UTKGPg9KWi",
        "outputId": "e85ab865-591c-46ec-d339-6706c005bf9f"
      },
      "execution_count": 11,
      "outputs": [
        {
          "output_type": "execute_result",
          "data": {
            "text/plain": [
              "[0.014840944670140743, 0.9973739981651306]"
            ]
          },
          "metadata": {},
          "execution_count": 11
        }
      ]
    },
    {
      "cell_type": "code",
      "source": [
        "# Plotting train and validation accuracy across epochs\n",
        "plt.figure(figsize=(10, 6))\n",
        "plt.plot(hist.history['accuracy'], label='Train Accuracy')\n",
        "plt.plot(hist.history['val_accuracy'], label='Validation Accuracy')\n",
        "plt.title('Train and Validation Accuracy Across Epochs')\n",
        "plt.xlabel('Epochs')\n",
        "plt.ylabel('Accuracy')\n",
        "plt.legend()\n",
        "plt.show()\n",
        "\n",
        "model.save(\"falldetection.h5\")"
      ],
      "metadata": {
        "colab": {
          "base_uri": "https://localhost:8080/",
          "height": 620
        },
        "id": "vuBmRazR_Pav",
        "outputId": "921e6dc3-b013-4c20-952a-0c29681757eb"
      },
      "execution_count": 12,
      "outputs": [
        {
          "output_type": "display_data",
          "data": {
            "text/plain": [
              "<Figure size 1000x600 with 1 Axes>"
            ],
            "image/png": "[encoded data removed]"
          },
          "metadata": {}
        },
        {
          "output_type": "stream",
          "name": "stderr",
          "text": [
            "/usr/local/lib/python3.10/dist-packages/keras/src/engine/training.py:3103: UserWarning: You are saving your model as an HDF5 file via `model.save()`. This file format is considered legacy. We recommend using instead the native Keras format, e.g. `model.save('my_model.keras')`.\n",
            "  saving_api.save_model(\n"
          ]
        }
      ]
    },
    {
      "cell_type": "code",
      "source": [
        "import tensorflow as tf\n",
        "from tensorflow.keras.models import load_model\n",
        "converter = tf.lite.TFLiteConverter.from_keras_model(model)\n",
        "tflite_quant_model = converter.convert()\n",
        "open(\"converted_model.tflite\", \"wb\").write(tflite_quant_model)"
      ],
      "metadata": {
        "id": "ktMrNv9yBtHX",
        "colab": {
          "base_uri": "https://localhost:8080/"
        },
        "outputId": "61bbb9da-3b7a-4bb8-81b3-2c9e29f75047"
      },
      "execution_count": 13,
      "outputs": [
        {
          "output_type": "execute_result",
          "data": {
            "text/plain": [
              "29940"
            ]
          },
          "metadata": {},
          "execution_count": 13
        }
      ]
    },
    {
      "cell_type": "code",
      "source": [
        "from keras.models import load_model\n",
        "\n",
        "model.save('Fall_Detection.h5')"
      ],
      "metadata": {
        "id": "AkJHBJNaRgPE",
        "colab": {
          "base_uri": "https://localhost:8080/"
        },
        "outputId": "8760e122-11ed-45ed-8be4-21387d1f8af9"
      },
      "execution_count": 15,
      "outputs": [
        {
          "output_type": "stream",
          "name": "stderr",
          "text": [
            "/usr/local/lib/python3.10/dist-packages/keras/src/engine/training.py:3103: UserWarning: You are saving your model as an HDF5 file via `model.save()`. This file format is considered legacy. We recommend using instead the native Keras format, e.g. `model.save('my_model.keras')`.\n",
            "  saving_api.save_model(\n"
          ]
        }
      ]
    },
    {
      "cell_type": "markdown",
      "source": [],
      "metadata": {
        "id": "HoVUWhdHfjrO"
      }
    }
  ]
}